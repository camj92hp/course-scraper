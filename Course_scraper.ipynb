{
  "cells": [
    {
      "cell_type": "markdown",
      "metadata": {
        "id": "8w2BLaLJ9vkH"
      },
      "source": [
        "The goal of this project is to develop a version 1 web scraper using Beautiful Soup to collect comprehensive information about the different degrees and courses offered at McGill University. The scraper is designed with three key steps:\n",
        "\n",
        "1. `soup_maker`: This function allows for the rapid creation of Beautiful Soup objects, facilitating efficient data extraction from web pages.\n",
        "\n",
        "2. `url_page_collector`: This step involves gathering all the relevant URLs from a single page, streamlining the process of scraping multiple pages simultaneously.\n",
        "\n",
        "3. `extract_course`: Create a function to extract detailed course information, such as credits, course descriptions, professors, and other relevant data.\n",
        "\n",
        "4. `extract_all`: By utilizing a Beautiful Soup object, this step effectively extracts the required course details and stores them in a well-organized dictionary.\n",
        "\n",
        "Overall, the project aims to build a functional web scraper that can systematically gather pertinent data about McGill University's degrees and courses, serving as the foundation for future iterations and enhancements."
      ]
    },
    {
      "cell_type": "code",
      "execution_count": 1,
      "metadata": {
        "id": "VF_8rmuvAt_S"
      },
      "outputs": [],
      "source": [
        "import requests\n",
        "from bs4 import BeautifulSoup"
      ]
    },
    {
      "cell_type": "markdown",
      "metadata": {
        "id": "PA8zz-kl9uZu"
      },
      "source": []
    },
    {
      "cell_type": "code",
      "execution_count": 2,
      "metadata": {
        "id": "x1Jnyzh9gAFl"
      },
      "outputs": [],
      "source": [
        "#lets make a program that takes a url and throws back a soup with the content I want\n",
        "def soup_maker(url):\n",
        "  url = url\n",
        "  response = requests.get(url)\n",
        "  response = response.content\n",
        "  soup = BeautifulSoup( response, 'html.parser')\n",
        "  return soup"
      ]
    },
    {
      "cell_type": "code",
      "execution_count": 3,
      "metadata": {
        "id": "SyFzq3txhrZD"
      },
      "outputs": [],
      "source": [
        "#lets make a program that takes a url and returns a list of urls that i need to scrape all the page with degress\n",
        "\n",
        "def url_page_collector(url):\n",
        "  urls = []\n",
        "  soup = soup_maker(url)\n",
        " #this variable have all the html from the page\n",
        "  all_programs = soup.find('div', class_=\"view-content\")\n",
        "\n",
        "#now i just want the html that have the url that i will need to loop\n",
        "\n",
        "  links = all_programs.find_all('a', href = True)\n",
        "  for link in links:\n",
        "    partial_link = link['href']\n",
        "    url1 = \"https://www.mcgill.ca\"+partial_link\n",
        "    urls+= [url1]\n",
        "\n",
        "  return urls\n"
      ]
    },
    {
      "cell_type": "code",
      "execution_count": 4,
      "metadata": {
        "id": "hx7w9gKF_2yd"
      },
      "outputs": [],
      "source": [
        "def extract_courses(ul):\n",
        "  error_counter=0\n",
        "  try:\n",
        "\n",
        "    courses_in_topic = (ul.find_all('li', class_=\"program-course\"))\n",
        "\n",
        "    #now we have to loop thourgh each course to extract the info we need per course and save it in a list\n",
        "    course_list=[]\n",
        "\n",
        "\n",
        "    for i, course in enumerate(courses_in_topic):\n",
        "\n",
        "      course_info= course.find('a').text # use .text to convert to tex\n",
        "      course_strip= course_info.strip()\n",
        "      course_code = course_info[15:23].strip() #use .strip to remove weird extra spaces before and after.\n",
        "      course_name = course_info[24:-26].strip()\n",
        "      content = course.find('div', class_=\"content\")\n",
        "      course_description = content.find(\"p\").text.strip()\n",
        "      if \"*\" in course_strip: # check the statment cuz the credits still show in the cocurse name.\n",
        "        credits = course_strip[-25:-24]\n",
        "        course_name = course_strip[9:-26]\n",
        "      elif \"**\" in course_strip:\n",
        "        credits = course_strip[-26:-25]\n",
        "      elif \"***\" in course_strip:\n",
        "        credits = course_strip[-27:28]\n",
        "      else:\n",
        "\n",
        "        credits = course_info[-25:-24]\n",
        "      credits = credits\n",
        "      prereq =[]\n",
        "      coreq = []\n",
        "      pre_co_req = []\n",
        "      restriction = []\n",
        "      course_note=[]\n",
        "    #to find all the pre, co, pre-co req and restriction, i notice there are some classes with more than 1 restriction.\n",
        "\n",
        "      for p in course.find_all('p'):\n",
        "\n",
        "\n",
        "        if 'Prerequisite'  in p.text:\n",
        "          prereq+=[p.text]\n",
        "\n",
        "        elif 'Corequisite'  in p.text:\n",
        "          coreq+=[p.text]\n",
        "\n",
        "        elif 'Pre-/co-requisite' in p.text:\n",
        "          pre_co_req+=[p.text]\n",
        "\n",
        "        elif 'Restriction' in p.text:\n",
        "          restriction+=[p.text]\n",
        "\n",
        "        elif \"Faculty\" in p.text:\n",
        "          faculty = p.text\n",
        "\n",
        "        elif course_description  in p.text:\n",
        "          course_description = course_description\n",
        "\n",
        "        elif \"Terms:\"  in p.text:\n",
        "          terms = p.text\n",
        "          terms = terms[19::].strip()\n",
        "\n",
        "        elif \"Instructors:\" in p.text:\n",
        "          instructor_names = p.text\n",
        "          instructor_names = instructor_names[24::].strip()\n",
        "\n",
        "        elif \"Fall\" in p.text:\n",
        "          course_note = course_note\n",
        "\n",
        "        elif 'Winter' in p.text:\n",
        "          course_note = course_note\n",
        "\n",
        "        else:\n",
        "          course_note+=[p.text]\n",
        "\n",
        "      course_list.append([course_code, course_name, credits, terms, faculty,  course_description, instructor_names, prereq, pre_co_req, restriction, course_note])\n",
        "  except (ValueError, TypeError ):\n",
        "    error_counter +=1\n",
        "    print(error_counter)\n",
        "    pass\n",
        "\n",
        "  return course_list"
      ]
    },
    {
      "cell_type": "code",
      "execution_count": 5,
      "metadata": {
        "colab": {
          "base_uri": "https://localhost:8080/"
        },
        "id": "p-bYPddqlAzu",
        "outputId": "629b696f-26e7-4e5d-8fec-cf51b1e059be"
      },
      "outputs": [
        {
          "name": "stdout",
          "output_type": "stream",
          "text": [
            "['https://www.mcgill.ca/study/2022-2023/faculties/arts/undergraduate/programs/bachelor-arts-ba-major-concentration-african-studies', 'https://www.mcgill.ca/study/2022-2023/faculties/basc/undergraduate/programs/bachelor-arts-ba-major-concentration-african-studies', 'https://www.mcgill.ca/study/2022-2023/faculties/arts/undergraduate/programs/bachelor-arts-ba-minor-concentration-african-studies', 'https://www.mcgill.ca/study/2022-2023/faculties/basc/undergraduate/programs/bachelor-arts-ba-minor-concentration-african-studies', 'https://www.mcgill.ca/study/2022-2023/faculties/arts/undergraduate/programs/bachelor-arts-ba-minor-concentration-arabic-language', 'https://www.mcgill.ca/study/2022-2023/faculties/basc/undergraduate/programs/bachelor-arts-ba-minor-concentration-arabic-language', 'https://www.mcgill.ca/study/2022-2023/faculties/arts/undergraduate/programs/bachelor-arts-ba-major-concentration-anthropology', 'https://www.mcgill.ca/study/2022-2023/faculties/basc/undergraduate/programs/bachelor-arts-ba-major-concentration-anthropology', 'https://www.mcgill.ca/study/2022-2023/faculties/arts/undergraduate/programs/bachelor-arts-ba-minor-concentration-anthropology', 'https://www.mcgill.ca/study/2022-2023/faculties/basc/undergraduate/programs/bachelor-arts-ba-minor-concentration-anthropology', 'https://www.mcgill.ca/study/2022-2023/faculties/arts/undergraduate/programs/bachelor-arts-ba-major-concentration-art-history', 'https://www.mcgill.ca/study/2022-2023/faculties/basc/undergraduate/programs/bachelor-arts-ba-major-concentration-art-history', 'https://www.mcgill.ca/study/2022-2023/faculties/arts/undergraduate/programs/bachelor-arts-ba-minor-concentration-art-history', 'https://www.mcgill.ca/study/2022-2023/faculties/basc/undergraduate/programs/bachelor-arts-ba-minor-concentration-art-history', 'https://www.mcgill.ca/study/2022-2023/faculties/arts/undergraduate/programs/bachelor-arts-ba-minor-concentration-behavioural-science', 'https://www.mcgill.ca/study/2022-2023/faculties/basc/undergraduate/programs/bachelor-arts-ba-minor-concentration-behavioural-science', 'https://www.mcgill.ca/study/2022-2023/faculties/arts/undergraduate/programs/bachelor-arts-ba-major-concentration-canadian-studies', 'https://www.mcgill.ca/study/2022-2023/faculties/basc/undergraduate/programs/bachelor-arts-ba-major-concentration-canadian-studies', 'https://www.mcgill.ca/study/2022-2023/faculties/arts/undergraduate/programs/bachelor-arts-ba-minor-concentration-canadian-studies', 'https://www.mcgill.ca/study/2022-2023/faculties/basc/undergraduate/programs/bachelor-arts-ba-minor-concentration-canadian-studies']\n"
          ]
        }
      ],
      "source": [
        "url_list = url_page_collector('https://www.mcgill.ca/study/2022-2023/programs/search?page=1')\n",
        "print(url_list)"
      ]
    },
    {
      "cell_type": "code",
      "execution_count": 6,
      "metadata": {
        "id": "I8UlNDYVTFSR"
      },
      "outputs": [],
      "source": [
        "test_soup = soup_maker('https://www.mcgill.ca/study/2022-2023/faculties/basc/undergraduate/programs/bachelor-science-bsc-minor-atmospheric-science')"
      ]
    },
    {
      "cell_type": "code",
      "execution_count": 7,
      "metadata": {
        "id": "IzZh4Cg-mwV_"
      },
      "outputs": [],
      "source": [
        "def extract_all(soup):\n",
        "  degree_name = soup.find(\"h1\").text.strip()\n",
        "  total_number_of_credits = degree_name[-13:-9]\n",
        "  #print(degree_name, total_number_of_credits)\n",
        "\n",
        "  h4_ps= soup.find_all(['h4', 'p', 'ul'])\n",
        "#print(h4_ps)\n",
        "  major_struc = {}\n",
        "  course_type= \"\"\n",
        "  required_credits = \"\"\n",
        "  courses_required=[]\n",
        "  complementary = \"\"\n",
        "  complementary_credits = []\n",
        "  complementary_courses = []\n",
        "  topic_name = \"\"\n",
        "  topic_credits= \"\"\n",
        "  topic_info = []\n",
        "  complementary_dict={}\n",
        "  topic_courses = []\n",
        "\n",
        "  for i, h in enumerate(h4_ps):\n",
        "\n",
        "  #this part will take care of the required courses\n",
        "  #check for preque as well\n",
        "\n",
        "    if h.name == 'h4':\n",
        "      course_type= h.text # ti does not do it all the time use the slicing better\n",
        "      #print (course_type)\n",
        "      course_type.strip()\n",
        "\n",
        "      if h4_ps[i+1].name == 'p':\n",
        "        required_credits = [h4_ps[i+1].text]\n",
        "\n",
        "\n",
        "      elif \"credits\" in h.text:\n",
        "        required_credits = course_type[-10:-9]\n",
        "      elif course_type:\n",
        "        course_type = h4_ps[i+2].text\n",
        "\n",
        "      counter =i\n",
        "      while counter+1 <len(h4_ps) and h4_ps[counter+1].name!= 'h4':\n",
        "\n",
        "        if h4_ps[counter+1].name == 'ul':\n",
        "          courses_required = extract_courses(h4_ps[counter+1])\n",
        "\n",
        "          #print(courses_required)\n",
        "\n",
        "          if course_type in major_struc:\n",
        "\n",
        "            major_struc[course_type].append([required_credits, courses_required])\n",
        "          else:\n",
        "            major_struc[course_type] = [required_credits, courses_required]\n",
        "\n",
        "          break\n",
        "        else :\n",
        "          counter+=1\n",
        "\n",
        "  print(major_struc)\n",
        "  return major_struc"
      ]
    },
    {
      "cell_type": "code",
      "execution_count": 8,
      "metadata": {
        "id": "U3ukl8OFQ-in"
      },
      "outputs": [],
      "source": [
        "test_soup = soup_maker('https://www.mcgill.ca/study/2022-2023/faculties/science/undergraduate/programs/bachelor-science-bsc-major-computer-science')"
      ]
    },
    {
      "cell_type": "code",
      "execution_count": 9,
      "metadata": {
        "colab": {
          "base_uri": "https://localhost:8080/"
        },
        "id": "s6Yq1_DFnNQ8",
        "outputId": "5f2e17d4-ecbc-4660-bc01-96f62781cb65"
      },
      "outputs": [
        {
          "name": "stdout",
          "output_type": "stream",
          "text": [
            "{'Required Courses (33 credits)': [['* Students who have sufficient knowledge in a programming language do not need to take COMP 202.'], [['COMP 202', 'Foundations of Programming ', '3', 'Fall 2022, Winter 2023, Summer 2023', 'Offered by: Computer Science (Faculty of Science)', 'Computer Science (Sci) : Introduction to computer programming in a high level language: variables, expressions, primitive types, methods, conditionals, loops. Introduction to algorithms, data structures (arrays, strings), modular software design, libraries, file input/output, debugging, exception handling. Selected topics.', \"Campbell, Jonathan (Fall) M'hiri, Faten (Winter) M'hiri, Faten (Summer)\", ['Prerequisite: a CEGEP level mathematics course'], [], ['Restrictions: Not open to students who have taken or are taking COMP 204, COMP 208, or GEOG 333; not open to students who have taken or are taking COMP 206 or COMP 250.'], ['3 hours', 'COMP 202 is intended as a general introductory course, while COMP 204 is intended for students in life sciences, and COMP 208 is intended for students in physical sciences and engineering.']], ['COMP 206', 'Introduction to Software Systems', '3', 'Fall 2022, Winter 2023', 'Offered by: Computer Science (Faculty of Science)', 'Computer Science (Sci) : Comprehensive overview of programming in C, use of system calls and libraries, debugging and testing of code; use of developmental tools like make, version control systems.', \"D'silva, Joseph (Fall) Errington, Jacob; Vybihal, Joseph P (Winter)\", ['Prerequisite: COMP 202 or COMP 250'], [], [], ['3 hours']], ['COMP 250', 'Introduction to Computer Science', '3', 'Fall 2022, Winter 2023', 'Offered by: Computer Science (Faculty of Science)', 'Computer Science (Sci) : Mathematical tools (binary numbers, induction, recurrence relations, asymptotic complexity, establishing correctness of programs), Data structures (arrays, stacks, queues, linked lists, trees, binary trees, binary search trees, heaps, hash tables), Recursive and non-recursive algorithms (searching and sorting, tree and graph traversal). Abstract data types, inheritance. Selected topics.', 'Alberini, Giulia (Fall) Alberini, Giulia (Winter)', ['Prerequisites: Familiarity with a high level programming language and CEGEP level Math.'], [], [], ['3 hours', 'Students with limited programming experience should take COMP 202 or equivalent before COMP 250. See COMP 202 Course Description for a list of topics.']], ['COMP 251', 'Algorithms and Data Structures', '3', 'Fall 2022, Winter 2023', 'Offered by: Computer Science (Faculty of Science)', 'Computer Science (Sci) : Introduction to algorithm design and analysis. Graph algorithms, greedy algorithms, data structures, dynamic programming, maximum flows.', 'Waldispuhl, Jérôme; Alberini, Giulia (Fall) Becerra, David (Winter)', ['Prerequisites: COMP 250; MATH 235 or MATH 240'], [], ['Restrictions: Not open to students who have taken or are taking COMP 252.'], ['3 hours', 'COMP 251 uses mathematical proof techniques that are taught in the corequisite course(s). If possible, students should take the corequisite course prior to COMP 251.', 'COMP 251 uses basic counting techniques (permutations and combinations) that are covered in MATH 240 but not in MATH 235. These techniques will be reviewed for the benefit of MATH 235 students.']], ['COMP 273', 'Introduction to Computer Systems', '3', 'Fall 2022, Winter 2023', 'Offered by: Computer Science (Faculty of Science)', 'Computer Science (Sci) : Number representations, combinational and sequential digital circuits, MIPS instructions and architecture datapath and control, caches, virtual memory, interrupts and exceptions, pipelining.', 'Vybihal, Joseph P (Fall) Kry, Paul; Elsaadawy, Mona (Winter)', [], [], [], ['3 hours']], ['COMP 302', 'Programming Languages and Paradigms', '3', 'Fall 2022, Winter 2023', 'Offered by: Computer Science (Faculty of Science)', 'Computer Science (Sci) : Programming language design issues and programming paradigms. Binding and scoping, parameter passing, lambda abstraction, data abstraction, type checking. Functional and logic programming.', 'Errington, Jacob (Fall) Errington, Jacob (Winter)', ['Prerequisite(s): COMP 250 and (MATH 240 or MATH 235 or MATH 318 or COMP 230 or PHIL 210)'], [], [], ['  3 hours']], ['COMP 303', 'Software Design', '3', 'Fall 2022, Winter 2023', 'Offered by: Computer Science (Faculty of Science)', 'Computer Science (Sci) : Principles, mechanisms, techniques, and tools for object-oriented software design and its implementation, including encapsulation, design patterns, and unit testing.', 'Robillard, Martin (Fall) Guo, Jin (Winter)', ['Prerequisites: COMP 206, COMP 250.'], [], [], ['3 hours']], ['COMP 310', 'Operating Systems', '3', 'Fall 2022, Winter 2023', 'Offered by: Computer Science (Faculty of Science)', 'Computer Science (Sci) : Control and scheduling of large information processing systems. Operating system software - resource allocation, dispatching, processors, access methods, job control languages, main storage management. Batch processing, multiprogramming, multiprocessing, time sharing.', 'Maheswaran, Muthucumaru (Fall) Balmau, Oana (Winter)', ['Prerequisite: COMP 273 '], [], [], ['3 hours']], ['MATH 222', 'Calculus 3', '3', 'Fall 2022, Winter 2023, Summer 2023', 'Offered by: Mathematics and Statistics (Faculty of Science)', \"Mathematics & Statistics (Sci) : Taylor series, Taylor's theorem in one and several variables. Review of vector geometry. Partial differentiation, directional derivative. Extreme of functions of 2 or 3 variables. Parametric curves and arc length. Polar and spherical coordinates. Multiple integrals.\", 'Paquette, Elliot; Wrobel, Konrad (Fall) Trudeau, Sidney (Winter) Barill, Gavin (Summer)', ['Prerequisite: MATH 141. Familiarity with vector geometry or Corequisite: MATH 133'], [], ['Restriction: Not open to students who have taken MATH 150, MATH 151 or MATH 262.'], []], ['MATH 223', 'Linear Algebra', '3', 'Fall 2022, Winter 2023', 'Offered by: Mathematics and Statistics (Faculty of Science)', 'Mathematics & Statistics (Sci) : Review of matrix algebra, determinants and systems of linear equations. Vector spaces, linear operators and their matrix representations, orthogonality. Eigenvalues and eigenvectors, diagonalization of Hermitian matrices. Applications.', 'Macdonald, Jeremy; Pichot, Mikael (Fall) Macdonald, Jeremy (Winter)', ['Prerequisite: MATH 133 or equivalent '], [], ['Restriction: Not open to students in Mathematics programs nor to students who have taken or are taking MATH 236, MATH 247 or MATH 251. It is open to students in Faculty Programs'], []], ['MATH 240', 'Discrete Structures', '3', 'Fall 2022, Winter 2023', 'Offered by: Mathematics and Statistics (Faculty of Science)', 'Mathematics & Statistics (Sci) : Introduction to discrete mathematics and applications. Logical reasoning and methods of proof. Elementary number theory and cryptography: prime numbers, modular equations, RSA encryption. Combinatorics: basic enumeration, combinatorial methods, recurrence equations. Graph theory: trees, cycles, planar\\ngraphs.', 'Vetta, Adrian Roshan; Fortier, Jérôme (Fall) Fortier, Jérôme; Macdonald, Jeremy (Winter)', [], [], [\"Restriction: For students in any Computer Science, Computer Engineering, or Software Engineering programs. Others only with the instructor's permission. Not open to students who have taken or are taking MATH 235.\"], []]]], '': [['At least 6 credits selected from:'], [['COMP 330', 'Theory of Computation', '3', 'Fall 2022, Winter 2023', 'Offered by: Computer Science (Faculty of Science)', 'Computer Science (Sci) : Finite automata, regular languages, context-free languages, push-down automata, models of computation, computability theory, undecidability, reduction techniques.', 'Panangaden, Prakash (Fall) Crépeau, Claude (Winter)', ['Prerequisite: COMP 251.'], [], [], ['3 hours']], ['COMP 350', 'Numerical Computing', '3', 'Fall 2022', 'Offered by: Computer Science (Faculty of Science)', 'Computer Science (Sci) : Computer representation of numbers, IEEE Standard for Floating Point Representation, computer arithmetic and rounding errors. Numerical stability. Matrix computations and software systems. Polynomial interpolation. Least-squares approximation. Iterative methods for solving a nonlinear equation. Discretization methods for integration and differential equations.', 'Chang, Xiao-Wen (Fall)', ['Prerequisites: MATH 222 and MATH 223 and one of: COMP 202, COMP 208, COMP 250; or equivalents.'], [], ['Restrictions: Students cannot receive credit for both COMP 350 and MATH 317.'], ['3 hours']], ['COMP 360', 'Algorithm Design', '3', 'Fall 2022, Winter 2023', 'Offered by: Computer Science (Faculty of Science)', 'Computer Science (Sci) : Advanced algorithm design and analysis. Linear programming, complexity and NP-completeness, advanced algorithmic techniques.', 'Robere, Robert (Fall) Hatami, Hamed (Winter)', ['Prerequisite: Either COMP 251 or COMP 252, and either MATH 240 or MATH 235 or MATH 363.'], [], ['Restriction: Not open to students who have taken or are taking COMP 362.'], ['3 hours']]], [['3-9 credits selected from:\\n* Must include at least one of MATH 323 and MATH 340.'], [['MATH 318', 'Mathematical Logic', '3', 'Fall 2022', 'Offered by: Mathematics and Statistics (Faculty of Science)', \"Mathematics & Statistics (Sci) : Propositional logic: truth-tables, formal proof systems, completeness and compactness theorems, Boolean algebras; first-order logic: formal proofs, Gödel's completeness theorem; axiomatic theories; set theory; Cantor's theorem, axiom of choice and Zorn's lemma, Peano arithmetic; Gödel's incompleteness theorem.\", 'Sabok, Marcin (Fall)', ['Prerequisite(s): MATH 235 or MATH 240 or MATH 242.'], [], [], []], ['MATH 323', 'Probability ', '3', 'Fall 2022, Winter 2023, Summer 2023', 'Offered by: Mathematics and Statistics (Faculty of Science)', \"Mathematics & Statistics (Sci) : Sample space, events, conditional probability, independence of events, Bayes' Theorem. Basic combinatorial probability, random variables, discrete and continuous univariate and multivariate distributions. Independence of random variables. Inequalities, weak law of large numbers, central limit theorem.\", 'Nadarajah, Tharshanna; Sajjad, Alia (Fall) Asgharian, Masoud; Sajjad, Alia (Winter) Kelome, Djivede (Summer)', ['Prerequisites: MATH 141 or equivalent.'], [], ['Restriction: Intended for students in Science, Engineering and related disciplines, who have had differential and integral calculus', 'Restriction: Not open to students who have taken or are taking MATH 356'], []], ['MATH 324', 'Statistics', '3', 'Fall 2022, Winter 2023', 'You may not be able to receive credit for this course and other statistic courses. Be sure to check the Course Overlap section under Faculty Degree Requirements in the Arts or Science section of the Calendar.', 'Mathematics & Statistics (Sci) : Sampling distributions, point and interval estimation, hypothesis testing, analysis of variance, contingency tables, nonparametric inference, regression, Bayesian inference.', 'Nadarajah, Tharshanna (Fall) Nadarajah, Tharshanna (Winter)', ['Prerequisite: MATH 323 or equivalent '], [], ['Restriction: Not open to students who have taken or are taking MATH 357'], []], ['MATH 340', 'Discrete\\r Mathematics ', '3', 'Winter 2023', 'Offered by: Mathematics and Statistics (Faculty of Science)', 'Mathematics & Statistics (Sci) : Discrete Mathematics and applications. Graph Theory: matchings, planarity, and colouring. Discrete probability. Combinatorics: enumeration, combinatorial techniques and proofs.', 'Norin, Sergey (Winter)', ['Prerequisites: MATH 235 or MATH 240 or MATH 242.'], [], ['Restriction: Restriction: Not open to students who have taken or are taking MATH 350.'], []]]], [['The remaining credits selected from computer science courses at the 300 level or above (except COMP 364 and COMP 396) and ECSE 539. '], []]]}\n"
          ]
        }
      ],
      "source": [
        "example=extract_all(test_soup)"
      ]
    },
    {
      "cell_type": "code",
      "execution_count": 10,
      "metadata": {},
      "outputs": [],
      "source": [
        "import json\n",
        "\n",
        "# Export data to a JSON file\n",
        "def export_to_json(data, filename=\"courses.json\"):\n",
        "    with open(filename, 'w', encoding='utf-8') as f:\n",
        "        json.dump(data, f, ensure_ascii=False, indent=4)\n",
        "\n"
      ]
    },
    {
      "cell_type": "code",
      "execution_count": 11,
      "metadata": {},
      "outputs": [
        {
          "name": "stdout",
          "output_type": "stream",
          "text": [
            "{'Required Courses (33 credits)': [['* Students who have sufficient knowledge in a programming language do not need to take COMP 202.'], [['COMP 202', 'Foundations of Programming ', '3', 'Fall 2022, Winter 2023, Summer 2023', 'Offered by: Computer Science (Faculty of Science)', 'Computer Science (Sci) : Introduction to computer programming in a high level language: variables, expressions, primitive types, methods, conditionals, loops. Introduction to algorithms, data structures (arrays, strings), modular software design, libraries, file input/output, debugging, exception handling. Selected topics.', \"Campbell, Jonathan (Fall) M'hiri, Faten (Winter) M'hiri, Faten (Summer)\", ['Prerequisite: a CEGEP level mathematics course'], [], ['Restrictions: Not open to students who have taken or are taking COMP 204, COMP 208, or GEOG 333; not open to students who have taken or are taking COMP 206 or COMP 250.'], ['3 hours', 'COMP 202 is intended as a general introductory course, while COMP 204 is intended for students in life sciences, and COMP 208 is intended for students in physical sciences and engineering.']], ['COMP 206', 'Introduction to Software Systems', '3', 'Fall 2022, Winter 2023', 'Offered by: Computer Science (Faculty of Science)', 'Computer Science (Sci) : Comprehensive overview of programming in C, use of system calls and libraries, debugging and testing of code; use of developmental tools like make, version control systems.', \"D'silva, Joseph (Fall) Errington, Jacob; Vybihal, Joseph P (Winter)\", ['Prerequisite: COMP 202 or COMP 250'], [], [], ['3 hours']], ['COMP 250', 'Introduction to Computer Science', '3', 'Fall 2022, Winter 2023', 'Offered by: Computer Science (Faculty of Science)', 'Computer Science (Sci) : Mathematical tools (binary numbers, induction, recurrence relations, asymptotic complexity, establishing correctness of programs), Data structures (arrays, stacks, queues, linked lists, trees, binary trees, binary search trees, heaps, hash tables), Recursive and non-recursive algorithms (searching and sorting, tree and graph traversal). Abstract data types, inheritance. Selected topics.', 'Alberini, Giulia (Fall) Alberini, Giulia (Winter)', ['Prerequisites: Familiarity with a high level programming language and CEGEP level Math.'], [], [], ['3 hours', 'Students with limited programming experience should take COMP 202 or equivalent before COMP 250. See COMP 202 Course Description for a list of topics.']], ['COMP 251', 'Algorithms and Data Structures', '3', 'Fall 2022, Winter 2023', 'Offered by: Computer Science (Faculty of Science)', 'Computer Science (Sci) : Introduction to algorithm design and analysis. Graph algorithms, greedy algorithms, data structures, dynamic programming, maximum flows.', 'Waldispuhl, Jérôme; Alberini, Giulia (Fall) Becerra, David (Winter)', ['Prerequisites: COMP 250; MATH 235 or MATH 240'], [], ['Restrictions: Not open to students who have taken or are taking COMP 252.'], ['3 hours', 'COMP 251 uses mathematical proof techniques that are taught in the corequisite course(s). If possible, students should take the corequisite course prior to COMP 251.', 'COMP 251 uses basic counting techniques (permutations and combinations) that are covered in MATH 240 but not in MATH 235. These techniques will be reviewed for the benefit of MATH 235 students.']], ['COMP 273', 'Introduction to Computer Systems', '3', 'Fall 2022, Winter 2023', 'Offered by: Computer Science (Faculty of Science)', 'Computer Science (Sci) : Number representations, combinational and sequential digital circuits, MIPS instructions and architecture datapath and control, caches, virtual memory, interrupts and exceptions, pipelining.', 'Vybihal, Joseph P (Fall) Kry, Paul; Elsaadawy, Mona (Winter)', [], [], [], ['3 hours']], ['COMP 302', 'Programming Languages and Paradigms', '3', 'Fall 2022, Winter 2023', 'Offered by: Computer Science (Faculty of Science)', 'Computer Science (Sci) : Programming language design issues and programming paradigms. Binding and scoping, parameter passing, lambda abstraction, data abstraction, type checking. Functional and logic programming.', 'Errington, Jacob (Fall) Errington, Jacob (Winter)', ['Prerequisite(s): COMP 250 and (MATH 240 or MATH 235 or MATH 318 or COMP 230 or PHIL 210)'], [], [], ['  3 hours']], ['COMP 303', 'Software Design', '3', 'Fall 2022, Winter 2023', 'Offered by: Computer Science (Faculty of Science)', 'Computer Science (Sci) : Principles, mechanisms, techniques, and tools for object-oriented software design and its implementation, including encapsulation, design patterns, and unit testing.', 'Robillard, Martin (Fall) Guo, Jin (Winter)', ['Prerequisites: COMP 206, COMP 250.'], [], [], ['3 hours']], ['COMP 310', 'Operating Systems', '3', 'Fall 2022, Winter 2023', 'Offered by: Computer Science (Faculty of Science)', 'Computer Science (Sci) : Control and scheduling of large information processing systems. Operating system software - resource allocation, dispatching, processors, access methods, job control languages, main storage management. Batch processing, multiprogramming, multiprocessing, time sharing.', 'Maheswaran, Muthucumaru (Fall) Balmau, Oana (Winter)', ['Prerequisite: COMP 273 '], [], [], ['3 hours']], ['MATH 222', 'Calculus 3', '3', 'Fall 2022, Winter 2023, Summer 2023', 'Offered by: Mathematics and Statistics (Faculty of Science)', \"Mathematics & Statistics (Sci) : Taylor series, Taylor's theorem in one and several variables. Review of vector geometry. Partial differentiation, directional derivative. Extreme of functions of 2 or 3 variables. Parametric curves and arc length. Polar and spherical coordinates. Multiple integrals.\", 'Paquette, Elliot; Wrobel, Konrad (Fall) Trudeau, Sidney (Winter) Barill, Gavin (Summer)', ['Prerequisite: MATH 141. Familiarity with vector geometry or Corequisite: MATH 133'], [], ['Restriction: Not open to students who have taken MATH 150, MATH 151 or MATH 262.'], []], ['MATH 223', 'Linear Algebra', '3', 'Fall 2022, Winter 2023', 'Offered by: Mathematics and Statistics (Faculty of Science)', 'Mathematics & Statistics (Sci) : Review of matrix algebra, determinants and systems of linear equations. Vector spaces, linear operators and their matrix representations, orthogonality. Eigenvalues and eigenvectors, diagonalization of Hermitian matrices. Applications.', 'Macdonald, Jeremy; Pichot, Mikael (Fall) Macdonald, Jeremy (Winter)', ['Prerequisite: MATH 133 or equivalent '], [], ['Restriction: Not open to students in Mathematics programs nor to students who have taken or are taking MATH 236, MATH 247 or MATH 251. It is open to students in Faculty Programs'], []], ['MATH 240', 'Discrete Structures', '3', 'Fall 2022, Winter 2023', 'Offered by: Mathematics and Statistics (Faculty of Science)', 'Mathematics & Statistics (Sci) : Introduction to discrete mathematics and applications. Logical reasoning and methods of proof. Elementary number theory and cryptography: prime numbers, modular equations, RSA encryption. Combinatorics: basic enumeration, combinatorial methods, recurrence equations. Graph theory: trees, cycles, planar\\ngraphs.', 'Vetta, Adrian Roshan; Fortier, Jérôme (Fall) Fortier, Jérôme; Macdonald, Jeremy (Winter)', [], [], [\"Restriction: For students in any Computer Science, Computer Engineering, or Software Engineering programs. Others only with the instructor's permission. Not open to students who have taken or are taking MATH 235.\"], []]]], '': [['At least 6 credits selected from:'], [['COMP 330', 'Theory of Computation', '3', 'Fall 2022, Winter 2023', 'Offered by: Computer Science (Faculty of Science)', 'Computer Science (Sci) : Finite automata, regular languages, context-free languages, push-down automata, models of computation, computability theory, undecidability, reduction techniques.', 'Panangaden, Prakash (Fall) Crépeau, Claude (Winter)', ['Prerequisite: COMP 251.'], [], [], ['3 hours']], ['COMP 350', 'Numerical Computing', '3', 'Fall 2022', 'Offered by: Computer Science (Faculty of Science)', 'Computer Science (Sci) : Computer representation of numbers, IEEE Standard for Floating Point Representation, computer arithmetic and rounding errors. Numerical stability. Matrix computations and software systems. Polynomial interpolation. Least-squares approximation. Iterative methods for solving a nonlinear equation. Discretization methods for integration and differential equations.', 'Chang, Xiao-Wen (Fall)', ['Prerequisites: MATH 222 and MATH 223 and one of: COMP 202, COMP 208, COMP 250; or equivalents.'], [], ['Restrictions: Students cannot receive credit for both COMP 350 and MATH 317.'], ['3 hours']], ['COMP 360', 'Algorithm Design', '3', 'Fall 2022, Winter 2023', 'Offered by: Computer Science (Faculty of Science)', 'Computer Science (Sci) : Advanced algorithm design and analysis. Linear programming, complexity and NP-completeness, advanced algorithmic techniques.', 'Robere, Robert (Fall) Hatami, Hamed (Winter)', ['Prerequisite: Either COMP 251 or COMP 252, and either MATH 240 or MATH 235 or MATH 363.'], [], ['Restriction: Not open to students who have taken or are taking COMP 362.'], ['3 hours']]], [['3-9 credits selected from:\\n* Must include at least one of MATH 323 and MATH 340.'], [['MATH 318', 'Mathematical Logic', '3', 'Fall 2022', 'Offered by: Mathematics and Statistics (Faculty of Science)', \"Mathematics & Statistics (Sci) : Propositional logic: truth-tables, formal proof systems, completeness and compactness theorems, Boolean algebras; first-order logic: formal proofs, Gödel's completeness theorem; axiomatic theories; set theory; Cantor's theorem, axiom of choice and Zorn's lemma, Peano arithmetic; Gödel's incompleteness theorem.\", 'Sabok, Marcin (Fall)', ['Prerequisite(s): MATH 235 or MATH 240 or MATH 242.'], [], [], []], ['MATH 323', 'Probability ', '3', 'Fall 2022, Winter 2023, Summer 2023', 'Offered by: Mathematics and Statistics (Faculty of Science)', \"Mathematics & Statistics (Sci) : Sample space, events, conditional probability, independence of events, Bayes' Theorem. Basic combinatorial probability, random variables, discrete and continuous univariate and multivariate distributions. Independence of random variables. Inequalities, weak law of large numbers, central limit theorem.\", 'Nadarajah, Tharshanna; Sajjad, Alia (Fall) Asgharian, Masoud; Sajjad, Alia (Winter) Kelome, Djivede (Summer)', ['Prerequisites: MATH 141 or equivalent.'], [], ['Restriction: Intended for students in Science, Engineering and related disciplines, who have had differential and integral calculus', 'Restriction: Not open to students who have taken or are taking MATH 356'], []], ['MATH 324', 'Statistics', '3', 'Fall 2022, Winter 2023', 'You may not be able to receive credit for this course and other statistic courses. Be sure to check the Course Overlap section under Faculty Degree Requirements in the Arts or Science section of the Calendar.', 'Mathematics & Statistics (Sci) : Sampling distributions, point and interval estimation, hypothesis testing, analysis of variance, contingency tables, nonparametric inference, regression, Bayesian inference.', 'Nadarajah, Tharshanna (Fall) Nadarajah, Tharshanna (Winter)', ['Prerequisite: MATH 323 or equivalent '], [], ['Restriction: Not open to students who have taken or are taking MATH 357'], []], ['MATH 340', 'Discrete\\r Mathematics ', '3', 'Winter 2023', 'Offered by: Mathematics and Statistics (Faculty of Science)', 'Mathematics & Statistics (Sci) : Discrete Mathematics and applications. Graph Theory: matchings, planarity, and colouring. Discrete probability. Combinatorics: enumeration, combinatorial techniques and proofs.', 'Norin, Sergey (Winter)', ['Prerequisites: MATH 235 or MATH 240 or MATH 242.'], [], ['Restriction: Restriction: Not open to students who have taken or are taking MATH 350.'], []]]], [['The remaining credits selected from computer science courses at the 300 level or above (except COMP 364 and COMP 396) and ECSE 539. '], []]]}\n",
            "Export completed successfully.\n"
          ]
        }
      ],
      "source": [
        "# Run your scraper\n",
        "test_url = 'https://www.mcgill.ca/study/2022-2023/faculties/science/undergraduate/programs/bachelor-science-bsc-major-computer-science'\n",
        "test_soup = soup_maker(test_url)\n",
        "scraped_data = extract_all(test_soup)\n",
        "\n",
        "# Export to files\n",
        "export_to_json(scraped_data, \"computer_science_courses.json\")\n",
        "\n",
        "print(\"Export completed successfully.\")\n"
      ]
    },
    {
      "cell_type": "code",
      "execution_count": 12,
      "metadata": {},
      "outputs": [],
      "source": [
        "import json\n",
        "\n",
        "# Export data to a JSON file\n",
        "def export_to_json(data, filename=\"courses.json\"):\n",
        "    with open(filename, 'w', encoding='utf-8') as f:\n",
        "        json.dump(data, f, ensure_ascii=False, indent=4)"
      ]
    },
    {
      "cell_type": "code",
      "execution_count": 14,
      "metadata": {},
      "outputs": [
        {
          "name": "stdout",
          "output_type": "stream",
          "text": [
            "{'Required Courses (33 credits)': [['* Students who have sufficient knowledge in a programming language do not need to take COMP 202.'], [['COMP 202', 'Foundations of Programming ', '3', 'Fall 2022, Winter 2023, Summer 2023', 'Offered by: Computer Science (Faculty of Science)', 'Computer Science (Sci) : Introduction to computer programming in a high level language: variables, expressions, primitive types, methods, conditionals, loops. Introduction to algorithms, data structures (arrays, strings), modular software design, libraries, file input/output, debugging, exception handling. Selected topics.', \"Campbell, Jonathan (Fall) M'hiri, Faten (Winter) M'hiri, Faten (Summer)\", ['Prerequisite: a CEGEP level mathematics course'], [], ['Restrictions: Not open to students who have taken or are taking COMP 204, COMP 208, or GEOG 333; not open to students who have taken or are taking COMP 206 or COMP 250.'], ['3 hours', 'COMP 202 is intended as a general introductory course, while COMP 204 is intended for students in life sciences, and COMP 208 is intended for students in physical sciences and engineering.']], ['COMP 206', 'Introduction to Software Systems', '3', 'Fall 2022, Winter 2023', 'Offered by: Computer Science (Faculty of Science)', 'Computer Science (Sci) : Comprehensive overview of programming in C, use of system calls and libraries, debugging and testing of code; use of developmental tools like make, version control systems.', \"D'silva, Joseph (Fall) Errington, Jacob; Vybihal, Joseph P (Winter)\", ['Prerequisite: COMP 202 or COMP 250'], [], [], ['3 hours']], ['COMP 250', 'Introduction to Computer Science', '3', 'Fall 2022, Winter 2023', 'Offered by: Computer Science (Faculty of Science)', 'Computer Science (Sci) : Mathematical tools (binary numbers, induction, recurrence relations, asymptotic complexity, establishing correctness of programs), Data structures (arrays, stacks, queues, linked lists, trees, binary trees, binary search trees, heaps, hash tables), Recursive and non-recursive algorithms (searching and sorting, tree and graph traversal). Abstract data types, inheritance. Selected topics.', 'Alberini, Giulia (Fall) Alberini, Giulia (Winter)', ['Prerequisites: Familiarity with a high level programming language and CEGEP level Math.'], [], [], ['3 hours', 'Students with limited programming experience should take COMP 202 or equivalent before COMP 250. See COMP 202 Course Description for a list of topics.']], ['COMP 251', 'Algorithms and Data Structures', '3', 'Fall 2022, Winter 2023', 'Offered by: Computer Science (Faculty of Science)', 'Computer Science (Sci) : Introduction to algorithm design and analysis. Graph algorithms, greedy algorithms, data structures, dynamic programming, maximum flows.', 'Waldispuhl, Jérôme; Alberini, Giulia (Fall) Becerra, David (Winter)', ['Prerequisites: COMP 250; MATH 235 or MATH 240'], [], ['Restrictions: Not open to students who have taken or are taking COMP 252.'], ['3 hours', 'COMP 251 uses mathematical proof techniques that are taught in the corequisite course(s). If possible, students should take the corequisite course prior to COMP 251.', 'COMP 251 uses basic counting techniques (permutations and combinations) that are covered in MATH 240 but not in MATH 235. These techniques will be reviewed for the benefit of MATH 235 students.']], ['COMP 273', 'Introduction to Computer Systems', '3', 'Fall 2022, Winter 2023', 'Offered by: Computer Science (Faculty of Science)', 'Computer Science (Sci) : Number representations, combinational and sequential digital circuits, MIPS instructions and architecture datapath and control, caches, virtual memory, interrupts and exceptions, pipelining.', 'Vybihal, Joseph P (Fall) Kry, Paul; Elsaadawy, Mona (Winter)', [], [], [], ['3 hours']], ['COMP 302', 'Programming Languages and Paradigms', '3', 'Fall 2022, Winter 2023', 'Offered by: Computer Science (Faculty of Science)', 'Computer Science (Sci) : Programming language design issues and programming paradigms. Binding and scoping, parameter passing, lambda abstraction, data abstraction, type checking. Functional and logic programming.', 'Errington, Jacob (Fall) Errington, Jacob (Winter)', ['Prerequisite(s): COMP 250 and (MATH 240 or MATH 235 or MATH 318 or COMP 230 or PHIL 210)'], [], [], ['  3 hours']], ['COMP 303', 'Software Design', '3', 'Fall 2022, Winter 2023', 'Offered by: Computer Science (Faculty of Science)', 'Computer Science (Sci) : Principles, mechanisms, techniques, and tools for object-oriented software design and its implementation, including encapsulation, design patterns, and unit testing.', 'Robillard, Martin (Fall) Guo, Jin (Winter)', ['Prerequisites: COMP 206, COMP 250.'], [], [], ['3 hours']], ['COMP 310', 'Operating Systems', '3', 'Fall 2022, Winter 2023', 'Offered by: Computer Science (Faculty of Science)', 'Computer Science (Sci) : Control and scheduling of large information processing systems. Operating system software - resource allocation, dispatching, processors, access methods, job control languages, main storage management. Batch processing, multiprogramming, multiprocessing, time sharing.', 'Maheswaran, Muthucumaru (Fall) Balmau, Oana (Winter)', ['Prerequisite: COMP 273 '], [], [], ['3 hours']], ['MATH 222', 'Calculus 3', '3', 'Fall 2022, Winter 2023, Summer 2023', 'Offered by: Mathematics and Statistics (Faculty of Science)', \"Mathematics & Statistics (Sci) : Taylor series, Taylor's theorem in one and several variables. Review of vector geometry. Partial differentiation, directional derivative. Extreme of functions of 2 or 3 variables. Parametric curves and arc length. Polar and spherical coordinates. Multiple integrals.\", 'Paquette, Elliot; Wrobel, Konrad (Fall) Trudeau, Sidney (Winter) Barill, Gavin (Summer)', ['Prerequisite: MATH 141. Familiarity with vector geometry or Corequisite: MATH 133'], [], ['Restriction: Not open to students who have taken MATH 150, MATH 151 or MATH 262.'], []], ['MATH 223', 'Linear Algebra', '3', 'Fall 2022, Winter 2023', 'Offered by: Mathematics and Statistics (Faculty of Science)', 'Mathematics & Statistics (Sci) : Review of matrix algebra, determinants and systems of linear equations. Vector spaces, linear operators and their matrix representations, orthogonality. Eigenvalues and eigenvectors, diagonalization of Hermitian matrices. Applications.', 'Macdonald, Jeremy; Pichot, Mikael (Fall) Macdonald, Jeremy (Winter)', ['Prerequisite: MATH 133 or equivalent '], [], ['Restriction: Not open to students in Mathematics programs nor to students who have taken or are taking MATH 236, MATH 247 or MATH 251. It is open to students in Faculty Programs'], []], ['MATH 240', 'Discrete Structures', '3', 'Fall 2022, Winter 2023', 'Offered by: Mathematics and Statistics (Faculty of Science)', 'Mathematics & Statistics (Sci) : Introduction to discrete mathematics and applications. Logical reasoning and methods of proof. Elementary number theory and cryptography: prime numbers, modular equations, RSA encryption. Combinatorics: basic enumeration, combinatorial methods, recurrence equations. Graph theory: trees, cycles, planar\\ngraphs.', 'Vetta, Adrian Roshan; Fortier, Jérôme (Fall) Fortier, Jérôme; Macdonald, Jeremy (Winter)', [], [], [\"Restriction: For students in any Computer Science, Computer Engineering, or Software Engineering programs. Others only with the instructor's permission. Not open to students who have taken or are taking MATH 235.\"], []]]], '': [['At least 6 credits selected from:'], [['COMP 330', 'Theory of Computation', '3', 'Fall 2022, Winter 2023', 'Offered by: Computer Science (Faculty of Science)', 'Computer Science (Sci) : Finite automata, regular languages, context-free languages, push-down automata, models of computation, computability theory, undecidability, reduction techniques.', 'Panangaden, Prakash (Fall) Crépeau, Claude (Winter)', ['Prerequisite: COMP 251.'], [], [], ['3 hours']], ['COMP 350', 'Numerical Computing', '3', 'Fall 2022', 'Offered by: Computer Science (Faculty of Science)', 'Computer Science (Sci) : Computer representation of numbers, IEEE Standard for Floating Point Representation, computer arithmetic and rounding errors. Numerical stability. Matrix computations and software systems. Polynomial interpolation. Least-squares approximation. Iterative methods for solving a nonlinear equation. Discretization methods for integration and differential equations.', 'Chang, Xiao-Wen (Fall)', ['Prerequisites: MATH 222 and MATH 223 and one of: COMP 202, COMP 208, COMP 250; or equivalents.'], [], ['Restrictions: Students cannot receive credit for both COMP 350 and MATH 317.'], ['3 hours']], ['COMP 360', 'Algorithm Design', '3', 'Fall 2022, Winter 2023', 'Offered by: Computer Science (Faculty of Science)', 'Computer Science (Sci) : Advanced algorithm design and analysis. Linear programming, complexity and NP-completeness, advanced algorithmic techniques.', 'Robere, Robert (Fall) Hatami, Hamed (Winter)', ['Prerequisite: Either COMP 251 or COMP 252, and either MATH 240 or MATH 235 or MATH 363.'], [], ['Restriction: Not open to students who have taken or are taking COMP 362.'], ['3 hours']]], [['3-9 credits selected from:\\n* Must include at least one of MATH 323 and MATH 340.'], [['MATH 318', 'Mathematical Logic', '3', 'Fall 2022', 'Offered by: Mathematics and Statistics (Faculty of Science)', \"Mathematics & Statistics (Sci) : Propositional logic: truth-tables, formal proof systems, completeness and compactness theorems, Boolean algebras; first-order logic: formal proofs, Gödel's completeness theorem; axiomatic theories; set theory; Cantor's theorem, axiom of choice and Zorn's lemma, Peano arithmetic; Gödel's incompleteness theorem.\", 'Sabok, Marcin (Fall)', ['Prerequisite(s): MATH 235 or MATH 240 or MATH 242.'], [], [], []], ['MATH 323', 'Probability ', '3', 'Fall 2022, Winter 2023, Summer 2023', 'Offered by: Mathematics and Statistics (Faculty of Science)', \"Mathematics & Statistics (Sci) : Sample space, events, conditional probability, independence of events, Bayes' Theorem. Basic combinatorial probability, random variables, discrete and continuous univariate and multivariate distributions. Independence of random variables. Inequalities, weak law of large numbers, central limit theorem.\", 'Nadarajah, Tharshanna; Sajjad, Alia (Fall) Asgharian, Masoud; Sajjad, Alia (Winter) Kelome, Djivede (Summer)', ['Prerequisites: MATH 141 or equivalent.'], [], ['Restriction: Intended for students in Science, Engineering and related disciplines, who have had differential and integral calculus', 'Restriction: Not open to students who have taken or are taking MATH 356'], []], ['MATH 324', 'Statistics', '3', 'Fall 2022, Winter 2023', 'You may not be able to receive credit for this course and other statistic courses. Be sure to check the Course Overlap section under Faculty Degree Requirements in the Arts or Science section of the Calendar.', 'Mathematics & Statistics (Sci) : Sampling distributions, point and interval estimation, hypothesis testing, analysis of variance, contingency tables, nonparametric inference, regression, Bayesian inference.', 'Nadarajah, Tharshanna (Fall) Nadarajah, Tharshanna (Winter)', ['Prerequisite: MATH 323 or equivalent '], [], ['Restriction: Not open to students who have taken or are taking MATH 357'], []], ['MATH 340', 'Discrete\\r Mathematics ', '3', 'Winter 2023', 'Offered by: Mathematics and Statistics (Faculty of Science)', 'Mathematics & Statistics (Sci) : Discrete Mathematics and applications. Graph Theory: matchings, planarity, and colouring. Discrete probability. Combinatorics: enumeration, combinatorial techniques and proofs.', 'Norin, Sergey (Winter)', ['Prerequisites: MATH 235 or MATH 240 or MATH 242.'], [], ['Restriction: Restriction: Not open to students who have taken or are taking MATH 350.'], []]]], [['The remaining credits selected from computer science courses at the 300 level or above (except COMP 364 and COMP 396) and ECSE 539. '], []]]}\n",
            "Export completed successfully.\n"
          ]
        }
      ],
      "source": [
        "# Run the scraper\n",
        "test_url = 'https://www.mcgill.ca/study/2022-2023/faculties/science/undergraduate/programs/bachelor-science-bsc-major-computer-science'\n",
        "test_soup = soup_maker(test_url)\n",
        "scraped_data = extract_all(test_soup)\n",
        "\n",
        "# Export to files\n",
        "export_to_json(scraped_data, \"computer_science_courses.json\")\n",
        "\n",
        "print(\"Export completed successfully.\")"
      ]
    }
  ],
  "metadata": {
    "colab": {
      "provenance": []
    },
    "kernelspec": {
      "display_name": "datascienceEnv",
      "language": "python",
      "name": "python3"
    },
    "language_info": {
      "codemirror_mode": {
        "name": "ipython",
        "version": 3
      },
      "file_extension": ".py",
      "mimetype": "text/x-python",
      "name": "python",
      "nbconvert_exporter": "python",
      "pygments_lexer": "ipython3",
      "version": "3.12.3"
    }
  },
  "nbformat": 4,
  "nbformat_minor": 0
}
